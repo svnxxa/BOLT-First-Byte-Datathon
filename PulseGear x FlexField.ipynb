
# %% [markdown]
# FlexField Fitness vs Pulsegear

# %%
import pandas as pd                                                       # data manipulation and analysis
import numpy as np                                                        # numerical computations and array operations
import seaborn as sns                                                     # statistical data visualization
import matplotlib.pyplot as plt                                           # creating plots and visualizations
from sklearn.model_selection import train_test_split, cross_val_score     # splitting data and cross-validation
from sklearn.preprocessing import StandardScaler, OneHotEncoder           # preprocessing tools for scaling and encoding
from sklearn.impute import SimpleImputer                                  # preprossessing tools for handling missing values
from sklearn.linear_model import LinearRegression                         # regression analysis
!pip install tensorflow                                              # neural network
from sklearn.neighbors import KNeighborsRegressor                         # knn model
from sklearn.ensemble import RandomForestRegressor
from sklearn.metrics import mean_squared_error                            # used for model evaluation
from sklearn.model_selection import train_test_split
from sklearn.ensemble import RandomForestClassifier
from sklearn.linear_model import LinearRegression
from sklearn.preprocessing import LabelEncoder
from sklearn.metrics import classification_report, accuracy_score, mean_squared_error

# %% [markdown]
# Read Data

# %%
fitness = pd.read_csv('flexfield_fitness.csv')
fitness.head(3)

# %%
fitness.describe()

# %%
pulsegear = pd.read_csv('pulsegear.csv')
pulsegear.head(3)

# %%
pulsegear.describe()

# %% [markdown]
# Data Wrangling

# %% [markdown]
# Assume that null value in Hours at Gym (per week) means people don't go to gym (hours = 0) so there is no info. Same with pulsegear data.

# %%
fitness['Hours at Gym (per week)'] = fitness['Hours at Gym (per week)'].fillna(0)
fitness.describe()

# %%
fitness = fitness.dropna(how='any',axis=0)
fitness.info()

# %%
categorical_columns = fitness.select_dtypes(include=['object']).columns

for column in categorical_columns:
    plt.figure(figsize=(8, 6))
    sns.countplot(x=column, data=fitness)
    plt.title(f'Count of {column}')
    plt.show()

# %%
numerical_cols_fitness = ['Age', 'Hours at Gym (per week)', 'Gym Membership Length (years)', 'Calorie Intake']
plt.figure(figsize=(8,6))
sns.heatmap(fitness[numerical_cols_fitness].corr(),cmap='YlGnBu',annot=True)
plt.show

# %%
pulsegear['Hours at Gym (per week)'] = pulsegear['Hours at Gym (per week)'].fillna(0)
pulsegear.describe()

# %%
pulsegear = pulsegear.dropna(how='any', axis=0)
pulsegear.info()

# %%
categorical_columns = pulsegear.select_dtypes(include=['object']).columns

for column in categorical_columns:
    plt.figure(figsize=(8, 6))
    sns.countplot(x=column, data=pulsegear)
    plt.title(f'Count of {column}')
    plt.show()

# %%
numerical_cols_pulsegear = ['Age', 'Hours at Gym (per week)', 'Average Spend on Apparel ($/year)']
plt.figure(figsize=(8,6))
sns.heatmap(pulsegear[numerical_cols_pulsegear].corr(),cmap='YlGnBu',annot=True)
plt.show

# %% [markdown]
# Merge datasets based on common columns

# %%
merged_data = pd.merge(fitness, pulsegear, on = ['Customer ID', 'Gender', 'Age', 'Hours at Gym (per week)', 'Fitness Goal'], how = 'inner')
merged_data.head(3)
merged_data.info()

# %%
merged_data.hist(bins=50,figsize=(20,15))
plt.show()

# %%
plt.figure(figsize=(10, 6))
sns.barplot(x=goal_membership_length.index, y=goal_membership_length.values)
plt.title('Average Gym Membership Length by Fitness Goal')
plt.xlabel('Fitness Goal')
plt.ylabel('Average Membership Length (years)')
plt.xticks(rotation=45)
plt.show()

# %%
categorical_columns = merged_data.select_dtypes(include=['object']).columns

for column in categorical_columns:
    plt.figure(figsize=(8, 6))
    sns.countplot(x=column, data=merged_data)
    plt.title(f'Count of {column}')
    plt.show()

# %%
plt.figure(figsize=(10, 6))
sns.boxplot(data=merged_data, x='Gender', y='Average Spend on Apparel ($/year)')
plt.title('Average Spend on Apparel by Gender')
plt.xlabel('Gender')
plt.ylabel('Average Spend on Apparel ($/year)')
plt.show()

# %%
# Convert categorical variables to dummy variables
merged_data_encoded = pd.get_dummies(merged_data, drop_first=True)

# %%
correlation_matrix = merged_data_encoded.corr()
plt.figure(figsize=(20, 15))
sns.heatmap(correlation_matrix, annot=True, cmap='coolwarm')
plt.title('Correlation Matrix')
plt.show()

# %%
ct = pd.crosstab([merged_data['Gender'], merged_data['Type of Apparel Purchased']], merged_data['Primary Apparel Purchase Channel'])

sns.heatmap(ct, annot=True, cmap='coolwarm')
plt.title('Heatmap of Gender, Type of Apparel Purchased, and Chanel')
plt.show()

# %%
ct = pd.crosstab([merged_data['Gender'], merged_data['Type of Apparel Purchased']], merged_data['Fitness Goal'])

sns.heatmap(ct, annot=True, cmap='coolwarm')
plt.title('Heatmap of Gender, Type of Apparel Purchased, and Fitness Goal')
plt.show()

# %%
sns.boxplot(x='Type of Apparel Purchased', y='Average Spend on Apparel ($/year)', data=merged_data)
plt.title('Average Spend on Apparel by Type of Apparel Purchased')
plt.show()

# %%
sns.boxplot(x='Fitness Goal', y='Average Spend on Apparel ($/year)', data=merged_data)
plt.title('Average Spend on Apparel by Fitness Goal')
plt.show()

# %%
sns.scatterplot(data=merged_data, x='Fitness Goal', y='Average Spend on Apparel ($/year)', hue='Type of Apparel Purchased')
plt.title('Type of Apparel vs Average Spend on Apparel ($/year) (Colored by Fitness Goal)')
plt.show()

# %% [markdown]
# Linear Regression

# %%
# Ensure statsmodels is installed
!pip install statsmodels

# Import necessary libraries
import pandas as pd
import statsmodels.formula.api as smf

# Define the formula for linear regression
formula = 'Q("Average Spend on Apparel ($/year)") ~ Q("Hours at Gym (per week)") + Q("Gym Membership Length (years)") + Q("Calorie Intake") + C(Q("Fitness Goal")) + C(Q("Gender"))'

# Fit the linear regression model
model = smf.ols(formula=formula, data=merged_data).fit()
print(model.summary())


# %%
import pandas as pd
import seaborn as sns
import matplotlib.pyplot as plt

# Load your dataset
# Assuming merged_data is your DataFrame containing the necessary columns

# Define spending categories based on Average Spend on Apparel
spending_bins = [0, 400, 800, 1200]  # Updated spending ranges
spending_labels = ['Low', 'Medium', 'High']

# Create a new column for spending category
merged_data['Spending Category'] = pd.cut(merged_data['Average Spend on Apparel ($/year)'], 
                                           bins=spending_bins, 
                                           labels=spending_labels, 
                                           include_lowest=True)

# Define gym engagement categories based on Hours at Gym (per week)
gym_bins = [0, 3, 6, 9, float('inf')]  # Updated gym hour ranges
gym_labels = ['Rarely', 'Occasionally', 'Frequently', 'Very Frequently']

# Create a new column for gym engagement category
merged_data['Gym Engagement'] = pd.cut(merged_data['Hours at Gym (per week)'], 
                                        bins=gym_bins, 
                                        labels=gym_labels, 
                                        include_lowest=True)

# Display the resulting DataFrame with the new categories
print(merged_data[['Average Spend on Apparel ($/year)', 'Hours at Gym (per week)', 
                   'Spending Category', 'Gym Engagement']].head())

# Create a cross-tabulation to analyze the relationship
segmentation_analysis = pd.crosstab(merged_data['Spending Category'], merged_data['Gym Engagement'])


# %%
# Display the analysis
print(segmentation_analysis)

# Visualize the segmentation analysis using a heatmap
plt.figure(figsize=(10, 6))
sns.heatmap(segmentation_analysis, annot=True, cmap='YlGnBu', fmt='d')
plt.title('Customer Segmentation: Spending vs Gym Engagement')
plt.xlabel('Gym Engagement')
plt.ylabel('Spending Category')
plt.show()

# %%
# Scatter plot to visualize relationship between Hours at Gym and Average Spend on Apparel
plt.figure(figsize=(10, 6))
sns.scatterplot(data=merged_data, x='Hours at Gym (per week)', y='Average Spend on Apparel ($/year)', hue='Gym Engagement')
plt.title('Scatter Plot: Hours at Gym vs Average Spend on Apparel')
plt.xlabel('Hours at Gym (per week)')
plt.ylabel('Average Spend on Apparel ($/year)')
plt.show()

# %% [markdown]
# Random Forest

# %%
# Encoding categorical features for Random Forest
from sklearn.preprocessing import LabelEncoder

le_spending = LabelEncoder()
merged_data['Spending Category Encoded'] = le_spending.fit_transform(merged_data['Spending Category'])

le_gym = LabelEncoder()
merged_data['Gym Engagement Encoded'] = le_gym.fit_transform(merged_data['Gym Engagement'])

# Random Forest Classifier
# Features and target for classification
X = merged_data[['Gym Engagement Encoded', 'Hours at Gym (per week)']]
y = merged_data['Spending Category Encoded']

# Train-test split
X_train, X_test, y_train, y_test = train_test_split(X, y, test_size=0.2, random_state=42)

# Random Forest model
rf = RandomForestClassifier(n_estimators=100, random_state=42)
rf.fit(X_train, y_train)

# Predictions
y_pred = rf.predict(X_test)

# Evaluation
print("Random Forest Accuracy:", accuracy_score(y_test, y_pred))
print("Classification Report:\n", classification_report(y_test, y_pred))

# %%
# Linear Regression
# Features and target for regression
X_reg = merged_data[['Gym Engagement Encoded', 'Hours at Gym (per week)']]
y_reg = merged_data['Average Spend on Apparel ($/year)']

# Train-test split for regression
X_train_reg, X_test_reg, y_train_reg, y_test_reg = train_test_split(X_reg, y_reg, test_size=0.2, random_state=42)

# Linear Regression model
lr = LinearRegression()
lr.fit(X_train_reg, y_train_reg)

# Predictions for regression
y_pred_reg = lr.predict(X_test_reg)

# Evaluation for regression
print("Linear Regression Mean Squared Error:", mean_squared_error(y_test_reg, y_pred_reg))



